{
 "cells": [
  {
   "cell_type": "code",
   "execution_count": 1,
   "metadata": {},
   "outputs": [],
   "source": [
    "import os"
   ]
  },
  {
   "cell_type": "code",
   "execution_count": 2,
   "metadata": {},
   "outputs": [
    {
     "data": {
      "text/plain": [
       "'C:\\\\Users\\\\KonuTech\\\\Downloads\\\\CIFAR-100-object-recognition-in-images-techniques'"
      ]
     },
     "execution_count": 2,
     "metadata": {},
     "output_type": "execute_result"
    }
   ],
   "source": [
    "os.getcwd()"
   ]
  },
  {
   "cell_type": "code",
   "execution_count": 3,
   "metadata": {},
   "outputs": [],
   "source": [
    "os.chdir('C:\\\\Users\\\\KonuTech\\\\Downloads\\\\ml-100k')"
   ]
  },
  {
   "cell_type": "code",
   "execution_count": 4,
   "metadata": {},
   "outputs": [
    {
     "name": "stdout",
     "output_type": "stream",
     "text": [
      " Volume in drive C has no label.\n",
      " Volume Serial Number is BCC0-49D8\n",
      "\n",
      " Directory of C:\\Users\\KonuTech\\Downloads\\ml-100k\n",
      "\n",
      "08.02.2021  09:44    <DIR>          .\n",
      "08.02.2021  09:44    <DIR>          ..\n",
      "08.02.2021  09:44    <DIR>          .ipynb_checkpoints\n",
      "20.09.2019  03:54               716 allbut.pl\n",
      "20.09.2019  03:54               643 mku.sh\n",
      "08.02.2021  09:41               452 ratings-counter.py\n",
      "20.09.2019  03:54             6 750 README\n",
      "20.09.2019  03:54         1 979 173 u.data\n",
      "20.09.2019  03:54               202 u.genre\n",
      "20.09.2019  03:54                36 u.info\n",
      "20.09.2019  03:54           236 344 u.item\n",
      "20.09.2019  03:54               193 u.occupation\n",
      "20.09.2019  03:54            22 628 u.user\n",
      "20.09.2019  03:54         1 586 544 u1.base\n",
      "20.09.2019  03:54           392 629 u1.test\n",
      "20.09.2019  03:54         1 583 948 u2.base\n",
      "20.09.2019  03:54           395 225 u2.test\n",
      "20.09.2019  03:54         1 582 546 u3.base\n",
      "20.09.2019  03:54           396 627 u3.test\n",
      "20.09.2019  03:54         1 581 878 u4.base\n",
      "20.09.2019  03:54           397 295 u4.test\n",
      "20.09.2019  03:54         1 581 776 u5.base\n",
      "20.09.2019  03:54           397 397 u5.test\n",
      "20.09.2019  03:54         1 792 501 ua.base\n",
      "20.09.2019  03:54           186 672 ua.test\n",
      "20.09.2019  03:54         1 792 476 ub.base\n",
      "20.09.2019  03:54           186 697 ub.test\n",
      "              24 File(s)     16 101 348 bytes\n",
      "               3 Dir(s)  18 918 699 008 bytes free\n"
     ]
    }
   ],
   "source": [
    "ls"
   ]
  },
  {
   "cell_type": "code",
   "execution_count": 5,
   "metadata": {},
   "outputs": [],
   "source": [
    "#pip install pyspark"
   ]
  },
  {
   "cell_type": "code",
   "execution_count": 6,
   "metadata": {},
   "outputs": [
    {
     "name": "stdout",
     "output_type": "stream",
     "text": [
      "1 6110\n",
      "2 11370\n",
      "3 27145\n",
      "4 34174\n",
      "5 21201\n"
     ]
    }
   ],
   "source": [
    "%run ratings-counter.py"
   ]
  },
  {
   "cell_type": "code",
   "execution_count": null,
   "metadata": {},
   "outputs": [],
   "source": []
  }
 ],
 "metadata": {
  "kernelspec": {
   "display_name": "Python 3",
   "language": "python",
   "name": "python3"
  },
  "language_info": {
   "codemirror_mode": {
    "name": "ipython",
    "version": 3
   },
   "file_extension": ".py",
   "mimetype": "text/x-python",
   "name": "python",
   "nbconvert_exporter": "python",
   "pygments_lexer": "ipython3",
   "version": "3.8.5"
  }
 },
 "nbformat": 4,
 "nbformat_minor": 4
}
