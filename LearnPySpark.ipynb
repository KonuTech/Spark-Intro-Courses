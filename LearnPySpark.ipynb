{
 "cells": [
  {
   "cell_type": "markdown",
   "metadata": {},
   "source": [
    "##### \"Learn PySpark - Build Python-based Machine Learning and Deep Learning Models - Pramod Singh\""
   ]
  },
  {
   "cell_type": "code",
   "execution_count": 1,
   "metadata": {},
   "outputs": [],
   "source": [
    "import os"
   ]
  },
  {
   "cell_type": "code",
   "execution_count": 2,
   "metadata": {},
   "outputs": [
    {
     "data": {
      "text/plain": [
       "'C:\\\\Users\\\\KonuTech\\\\Downloads'"
      ]
     },
     "execution_count": 2,
     "metadata": {},
     "output_type": "execute_result"
    }
   ],
   "source": [
    "os.getcwd()"
   ]
  },
  {
   "cell_type": "code",
   "execution_count": 3,
   "metadata": {},
   "outputs": [],
   "source": [
    "os.chdir('C:\\\\Users\\\\KonuTech\\\\Downloads\\\\spark-intro-courses\\\\learn-pyspark-master\\\\learn-pyspark-master\\\\chap_2')"
   ]
  },
  {
   "cell_type": "code",
   "execution_count": 4,
   "metadata": {},
   "outputs": [
    {
     "name": "stdout",
     "output_type": "stream",
     "text": [
      " Volume in drive C has no label.\n",
      " Volume Serial Number is BCC0-49D8\n",
      "\n",
      " Directory of C:\\Users\\KonuTech\\Downloads\\spark-intro-courses\\learn-pyspark-master\\learn-pyspark-master\\chap_2\n",
      "\n",
      "13.02.2021  13:13    <DIR>          .\n",
      "13.02.2021  13:13    <DIR>          ..\n",
      "10.09.2019  15:45             6 148 .DS_Store\n",
      "10.09.2019  15:45           132 715 customer_data.csv\n",
      "10.09.2019  15:45            66 353 Data Processing .ipynb\n",
      "               3 File(s)        205 216 bytes\n",
      "               2 Dir(s)  119 545 438 208 bytes free\n"
     ]
    }
   ],
   "source": [
    "ls"
   ]
  },
  {
   "cell_type": "code",
   "execution_count": 5,
   "metadata": {},
   "outputs": [],
   "source": [
    "from pyspark.sql import SparkSession"
   ]
  },
  {
   "cell_type": "code",
   "execution_count": 6,
   "metadata": {},
   "outputs": [],
   "source": [
    "spark = SparkSession.builder.appName(\"data_processing\").getOrCreate()"
   ]
  },
  {
   "cell_type": "code",
   "execution_count": 7,
   "metadata": {},
   "outputs": [],
   "source": [
    "import pyspark.sql.functions as F"
   ]
  },
  {
   "cell_type": "code",
   "execution_count": 8,
   "metadata": {},
   "outputs": [],
   "source": [
    "from pyspark.sql.types import *"
   ]
  },
  {
   "cell_type": "code",
   "execution_count": 9,
   "metadata": {},
   "outputs": [],
   "source": [
    "schema = StructType().add(\"user_id\", \"string\").add(\"country\", \"string\").add(\"browser\", \"string\").add(\"OS\", \"string\").add(\"age\", \"integer\")"
   ]
  },
  {
   "cell_type": "code",
   "execution_count": 10,
   "metadata": {},
   "outputs": [],
   "source": [
    "df = spark.createDataFrame([(\"A203\", \"India\", \"Chrome\", \"WIN\", 33), (\"A201\", \"China\", \"Safari\", \"MacOS\", 35), (\"A205\", \"UK\", \"Mozilla\", \"Linux\", 25)], schema=schema)"
   ]
  },
  {
   "cell_type": "code",
   "execution_count": 11,
   "metadata": {},
   "outputs": [
    {
     "name": "stdout",
     "output_type": "stream",
     "text": [
      "root\n",
      " |-- user_id: string (nullable = true)\n",
      " |-- country: string (nullable = true)\n",
      " |-- browser: string (nullable = true)\n",
      " |-- OS: string (nullable = true)\n",
      " |-- age: integer (nullable = true)\n",
      "\n"
     ]
    }
   ],
   "source": [
    "df.printSchema()"
   ]
  },
  {
   "cell_type": "code",
   "execution_count": 12,
   "metadata": {},
   "outputs": [
    {
     "name": "stdout",
     "output_type": "stream",
     "text": [
      "+-------+-------+-------+-----+---+\n",
      "|user_id|country|browser|   OS|age|\n",
      "+-------+-------+-------+-----+---+\n",
      "|   A203|  India| Chrome|  WIN| 33|\n",
      "|   A201|  China| Safari|MacOS| 35|\n",
      "|   A205|     UK|Mozilla|Linux| 25|\n",
      "+-------+-------+-------+-----+---+\n",
      "\n"
     ]
    }
   ],
   "source": [
    "df.show()"
   ]
  },
  {
   "cell_type": "code",
   "execution_count": 13,
   "metadata": {},
   "outputs": [],
   "source": [
    "df_na = spark.createDataFrame([(\"A203\", None, \"Chrome\", \"WIN\", 33), (\"A201\", \"China\", None, \"MacOS\", 35), (\"A205\", \"UK\", \"Mozilla\", \"Linux\", 25)], schema=schema)"
   ]
  },
  {
   "cell_type": "code",
   "execution_count": 14,
   "metadata": {},
   "outputs": [
    {
     "name": "stdout",
     "output_type": "stream",
     "text": [
      "+-------+-------+-------+-----+---+\n",
      "|user_id|country|browser|   OS|age|\n",
      "+-------+-------+-------+-----+---+\n",
      "|   A203|   null| Chrome|  WIN| 33|\n",
      "|   A201|  China|   null|MacOS| 35|\n",
      "|   A205|     UK|Mozilla|Linux| 25|\n",
      "+-------+-------+-------+-----+---+\n",
      "\n"
     ]
    }
   ],
   "source": [
    "df_na.show()"
   ]
  },
  {
   "cell_type": "code",
   "execution_count": 15,
   "metadata": {},
   "outputs": [
    {
     "name": "stdout",
     "output_type": "stream",
     "text": [
      "+-------+-------+-------+-----+---+\n",
      "|user_id|country|browser|   OS|age|\n",
      "+-------+-------+-------+-----+---+\n",
      "|   A203|      0| Chrome|  WIN| 33|\n",
      "|   A201|  China|      0|MacOS| 35|\n",
      "|   A205|     UK|Mozilla|Linux| 25|\n",
      "+-------+-------+-------+-----+---+\n",
      "\n"
     ]
    }
   ],
   "source": [
    "df_na.fillna(\"0\").show()"
   ]
  },
  {
   "cell_type": "code",
   "execution_count": 16,
   "metadata": {},
   "outputs": [
    {
     "name": "stdout",
     "output_type": "stream",
     "text": [
      "+-------+-------+-------+-------+-----+-----------------+\n",
      "|summary|user_id|country|browser|   OS|              age|\n",
      "+-------+-------+-------+-------+-----+-----------------+\n",
      "|  count|      3|      2|      2|    3|                3|\n",
      "|   mean|   null|   null|   null| null|             31.0|\n",
      "| stddev|   null|   null|   null| null|5.291502622129181|\n",
      "|    min|   A201|  China| Chrome|Linux|               25|\n",
      "|    25%|   null|   null|   null| null|               25|\n",
      "|    50%|   null|   null|   null| null|               33|\n",
      "|    75%|   null|   null|   null| null|               35|\n",
      "|    max|   A205|     UK|Mozilla|  WIN|               35|\n",
      "+-------+-------+-------+-------+-----+-----------------+\n",
      "\n"
     ]
    }
   ],
   "source": [
    "df_na.summary().show()"
   ]
  },
  {
   "cell_type": "code",
   "execution_count": 17,
   "metadata": {},
   "outputs": [
    {
     "name": "stdout",
     "output_type": "stream",
     "text": [
      "+-------+-------+-------+-----+---+\n",
      "|user_id|country|browser|   OS|age|\n",
      "+-------+-------+-------+-----+---+\n",
      "|   A203|    USA| Chrome|  WIN| 33|\n",
      "|   A201|  China| Safari|MacOS| 35|\n",
      "|   A205|     UK|Mozilla|Linux| 25|\n",
      "+-------+-------+-------+-----+---+\n",
      "\n"
     ]
    }
   ],
   "source": [
    "df_na.fillna({\"country\": \"USA\", \"browser\": \"Safari\"}).show()"
   ]
  },
  {
   "cell_type": "code",
   "execution_count": 18,
   "metadata": {},
   "outputs": [
    {
     "name": "stdout",
     "output_type": "stream",
     "text": [
      "+-------+-------+-------+-----+---+\n",
      "|user_id|country|browser|   OS|age|\n",
      "+-------+-------+-------+-----+---+\n",
      "|   A205|     UK|Mozilla|Linux| 25|\n",
      "+-------+-------+-------+-----+---+\n",
      "\n"
     ]
    }
   ],
   "source": [
    "df_na.na.drop().show()"
   ]
  },
  {
   "cell_type": "code",
   "execution_count": 19,
   "metadata": {},
   "outputs": [
    {
     "name": "stdout",
     "output_type": "stream",
     "text": [
      "+-------+-------+-------+-----+---+\n",
      "|user_id|country|browser|   OS|age|\n",
      "+-------+-------+-------+-----+---+\n",
      "|   A201|  China|   null|MacOS| 35|\n",
      "|   A205|     UK|Mozilla|Linux| 25|\n",
      "+-------+-------+-------+-----+---+\n",
      "\n"
     ]
    }
   ],
   "source": [
    "df_na.na.drop(subset=\"country\").show()"
   ]
  },
  {
   "cell_type": "code",
   "execution_count": 20,
   "metadata": {},
   "outputs": [
    {
     "name": "stdout",
     "output_type": "stream",
     "text": [
      "+-------+-------+-------+-----+---+\n",
      "|user_id|country|browser|   OS|age|\n",
      "+-------+-------+-------+-----+---+\n",
      "|   A201|  China|   null|MacOS| 35|\n",
      "|   A205|     UK|Mozilla|Linux| 25|\n",
      "+-------+-------+-------+-----+---+\n",
      "\n"
     ]
    }
   ],
   "source": [
    "df_na.na.drop(subset=\"country\").show()"
   ]
  },
  {
   "cell_type": "code",
   "execution_count": 21,
   "metadata": {},
   "outputs": [
    {
     "name": "stdout",
     "output_type": "stream",
     "text": [
      "+-------+-------+-------------+-----+---+\n",
      "|user_id|country|      browser|   OS|age|\n",
      "+-------+-------+-------------+-----+---+\n",
      "|   A203|   null|Google Chrome|  WIN| 33|\n",
      "|   A201|  China|         null|MacOS| 35|\n",
      "|   A205|     UK|      Mozilla|Linux| 25|\n",
      "+-------+-------+-------------+-----+---+\n",
      "\n"
     ]
    }
   ],
   "source": [
    "df_na.replace(\"Chrome\", \"Google Chrome\").show()"
   ]
  },
  {
   "cell_type": "code",
   "execution_count": 22,
   "metadata": {},
   "outputs": [
    {
     "name": "stdout",
     "output_type": "stream",
     "text": [
      "+-------+-------+-----+---+\n",
      "|country|browser|   OS|age|\n",
      "+-------+-------+-----+---+\n",
      "|   null| Chrome|  WIN| 33|\n",
      "|  China|   null|MacOS| 35|\n",
      "|     UK|Mozilla|Linux| 25|\n",
      "+-------+-------+-----+---+\n",
      "\n"
     ]
    }
   ],
   "source": [
    "df_na.drop(\"user_id\").show()"
   ]
  },
  {
   "cell_type": "code",
   "execution_count": 23,
   "metadata": {},
   "outputs": [
    {
     "data": {
      "text/plain": [
       "'C:\\\\Users\\\\KonuTech\\\\Downloads\\\\spark-intro-courses\\\\learn-pyspark-master\\\\learn-pyspark-master\\\\chap_2'"
      ]
     },
     "execution_count": 23,
     "metadata": {},
     "output_type": "execute_result"
    }
   ],
   "source": [
    "os.getcwd()"
   ]
  },
  {
   "cell_type": "code",
   "execution_count": 24,
   "metadata": {},
   "outputs": [],
   "source": [
    "df = spark.read.csv(\"customer_data.csv\", header=True, inferSchema=True)"
   ]
  },
  {
   "cell_type": "code",
   "execution_count": 25,
   "metadata": {},
   "outputs": [
    {
     "data": {
      "text/plain": [
       "2000"
      ]
     },
     "execution_count": 25,
     "metadata": {},
     "output_type": "execute_result"
    }
   ],
   "source": [
    "df.count()"
   ]
  },
  {
   "cell_type": "code",
   "execution_count": 26,
   "metadata": {},
   "outputs": [
    {
     "data": {
      "text/plain": [
       "7"
      ]
     },
     "execution_count": 26,
     "metadata": {},
     "output_type": "execute_result"
    }
   ],
   "source": [
    "len(df.columns)"
   ]
  },
  {
   "cell_type": "code",
   "execution_count": 27,
   "metadata": {},
   "outputs": [
    {
     "name": "stdout",
     "output_type": "stream",
     "text": [
      "root\n",
      " |-- Customer_subtype: string (nullable = true)\n",
      " |-- Number_of_houses: integer (nullable = true)\n",
      " |-- Avg_size_household: integer (nullable = true)\n",
      " |-- Avg_age: string (nullable = true)\n",
      " |-- Customer_main_type: string (nullable = true)\n",
      " |-- Avg_Salary: integer (nullable = true)\n",
      " |-- label: integer (nullable = true)\n",
      "\n"
     ]
    }
   ],
   "source": [
    "df.printSchema()"
   ]
  },
  {
   "cell_type": "code",
   "execution_count": 28,
   "metadata": {},
   "outputs": [
    {
     "name": "stdout",
     "output_type": "stream",
     "text": [
      "+--------------------+----------------+------------------+-----------+--------------------+----------+-----+\n",
      "|    Customer_subtype|Number_of_houses|Avg_size_household|    Avg_age|  Customer_main_type|Avg_Salary|label|\n",
      "+--------------------+----------------+------------------+-----------+--------------------+----------+-----+\n",
      "|Lower class large...|               1|                 3|30-40 years|Family with grown...|     44905|    0|\n",
      "|Mixed small town ...|               1|                 2|30-40 years|Family with grown...|     37575|    0|\n",
      "|Mixed small town ...|               1|                 2|30-40 years|Family with grown...|     27915|    0|\n",
      "+--------------------+----------------+------------------+-----------+--------------------+----------+-----+\n",
      "only showing top 3 rows\n",
      "\n"
     ]
    }
   ],
   "source": [
    "df.show(3)"
   ]
  },
  {
   "cell_type": "code",
   "execution_count": 29,
   "metadata": {},
   "outputs": [
    {
     "name": "stdout",
     "output_type": "stream",
     "text": [
      "+-------+--------------------+------------------+------------------+-----------+--------------------+-----------------+------------------+\n",
      "|summary|    Customer_subtype|  Number_of_houses|Avg_size_household|    Avg_age|  Customer_main_type|       Avg_Salary|             label|\n",
      "+-------+--------------------+------------------+------------------+-----------+--------------------+-----------------+------------------+\n",
      "|  count|                2000|              2000|              2000|       2000|                2000|             2000|              2000|\n",
      "|   mean|                null|            1.1075|            2.6895|       null|                null|     1616908.0835|            0.0605|\n",
      "| stddev|                null|0.3873225521186316|0.7914562220841646|       null|                null|6822647.757312146|0.2384705099001677|\n",
      "|    min|Affluent senior a...|                 1|                 1|20-30 years|      Average Family|             1361|                 0|\n",
      "|    25%|                null|                 1|                 2|       null|                null|            20315|                 0|\n",
      "|    50%|                null|                 1|                 3|       null|                null|            31421|                 0|\n",
      "|    75%|                null|                 1|                 3|       null|                null|            42949|                 0|\n",
      "|    max| Young, low educated|                10|                 5|70-80 years|Successful hedonists|         48919896|                 1|\n",
      "+-------+--------------------+------------------+------------------+-----------+--------------------+-----------------+------------------+\n",
      "\n"
     ]
    }
   ],
   "source": [
    "df.summary().show()"
   ]
  },
  {
   "cell_type": "code",
   "execution_count": null,
   "metadata": {},
   "outputs": [],
   "source": []
  }
 ],
 "metadata": {
  "kernelspec": {
   "display_name": "Python 3",
   "language": "python",
   "name": "python3"
  },
  "language_info": {
   "codemirror_mode": {
    "name": "ipython",
    "version": 3
   },
   "file_extension": ".py",
   "mimetype": "text/x-python",
   "name": "python",
   "nbconvert_exporter": "python",
   "pygments_lexer": "ipython3",
   "version": "3.8.5"
  }
 },
 "nbformat": 4,
 "nbformat_minor": 4
}
